{
 "cells": [
  {
   "cell_type": "code",
   "execution_count": 1,
   "id": "3cd59fed",
   "metadata": {},
   "outputs": [],
   "source": [
    "\n",
    "\n",
    "from sklearn.feature_extraction.text import TfidfVectorizer\n",
    "# تحميل البيانات المعالجة في أي نوت بوك تاني\n",
    "import pandas as pd\n",
    "data = pd.read_csv(\"processed_movielens_100k.csv\")"
   ]
  },
  {
   "cell_type": "code",
   "execution_count": 2,
   "id": "fdb96e87",
   "metadata": {},
   "outputs": [],
   "source": [
    "import pandas as pd\n",
    "from sklearn.decomposition import TruncatedSVD\n",
    "\n",
    "# Pivot table: rows = users, columns = movies, values = ratings\n",
    "ratings_matrix = data.pivot_table(index='userId', columns='movieId', values='rating').fillna(0)"
   ]
  },
  {
   "cell_type": "code",
   "execution_count": 3,
   "id": "a70f8a26",
   "metadata": {},
   "outputs": [],
   "source": [
    "# تطبيق SVD - نختار عدد المكونات (الميزات الكامنة)\n",
    "svd = TruncatedSVD(n_components=20, random_state=42)\n",
    "latent_matrix = svd.fit_transform(ratings_matrix)\n"
   ]
  },
  {
   "cell_type": "code",
   "execution_count": 4,
   "id": "74070e8d",
   "metadata": {},
   "outputs": [],
   "source": [
    "reconstructed_matrix = svd.inverse_transform(latent_matrix)\n",
    "predicted_ratings = pd.DataFrame(reconstructed_matrix, index=ratings_matrix.index, columns=ratings_matrix.columns)\n"
   ]
  },
  {
   "cell_type": "code",
   "execution_count": 5,
   "id": "96734ba2",
   "metadata": {},
   "outputs": [],
   "source": [
    "def recommend_by_user_svd(user_id, predicted_ratings, data, top_n=10):\n",
    "    # ترتيب الأفلام حسب التوقعات\n",
    "    user_ratings = predicted_ratings.loc[user_id]\n",
    "    \n",
    "    # شيل الأفلام اللي المستخدم شافها فعلًا\n",
    "    watched_movies = data[data['userId'] == user_id]['movieId'].tolist()\n",
    "    user_ratings = user_ratings.drop(labels=watched_movies)\n",
    "    \n",
    "    # ترتيب التوصيات\n",
    "    top_movies = user_ratings.sort_values(ascending=False).head(top_n).index\n",
    "    return data[data['movieId'].isin(top_movies)][['title']].drop_duplicates().head(top_n)\n"
   ]
  },
  {
   "cell_type": "code",
   "execution_count": 9,
   "id": "207f458f",
   "metadata": {},
   "outputs": [
    {
     "data": {
      "text/html": [
       "<div>\n",
       "<style scoped>\n",
       "    .dataframe tbody tr th:only-of-type {\n",
       "        vertical-align: middle;\n",
       "    }\n",
       "\n",
       "    .dataframe tbody tr th {\n",
       "        vertical-align: top;\n",
       "    }\n",
       "\n",
       "    .dataframe thead th {\n",
       "        text-align: right;\n",
       "    }\n",
       "</style>\n",
       "<table border=\"1\" class=\"dataframe\">\n",
       "  <thead>\n",
       "    <tr style=\"text-align: right;\">\n",
       "      <th></th>\n",
       "      <th>title</th>\n",
       "    </tr>\n",
       "  </thead>\n",
       "  <tbody>\n",
       "    <tr>\n",
       "      <th>231</th>\n",
       "      <td>Shawshank Redemption, The (1994)</td>\n",
       "    </tr>\n",
       "    <tr>\n",
       "      <th>245</th>\n",
       "      <td>Inception (2010)</td>\n",
       "    </tr>\n",
       "    <tr>\n",
       "      <th>469</th>\n",
       "      <td>Harry Potter and the Sorcerer's Stone (a.k.a. ...</td>\n",
       "    </tr>\n",
       "    <tr>\n",
       "      <th>891</th>\n",
       "      <td>Monsters, Inc. (2001)</td>\n",
       "    </tr>\n",
       "    <tr>\n",
       "      <th>909</th>\n",
       "      <td>Pirates of the Caribbean: The Curse of the Bla...</td>\n",
       "    </tr>\n",
       "  </tbody>\n",
       "</table>\n",
       "</div>"
      ],
      "text/plain": [
       "                                                 title\n",
       "231                   Shawshank Redemption, The (1994)\n",
       "245                                   Inception (2010)\n",
       "469  Harry Potter and the Sorcerer's Stone (a.k.a. ...\n",
       "891                              Monsters, Inc. (2001)\n",
       "909  Pirates of the Caribbean: The Curse of the Bla..."
      ]
     },
     "execution_count": 9,
     "metadata": {},
     "output_type": "execute_result"
    }
   ],
   "source": [
    "recommend_by_user_svd(user_id=10, predicted_ratings=predicted_ratings, data=data, top_n=5)\n"
   ]
  }
 ],
 "metadata": {
  "kernelspec": {
   "display_name": "Python 3",
   "language": "python",
   "name": "python3"
  },
  "language_info": {
   "codemirror_mode": {
    "name": "ipython",
    "version": 3
   },
   "file_extension": ".py",
   "mimetype": "text/x-python",
   "name": "python",
   "nbconvert_exporter": "python",
   "pygments_lexer": "ipython3",
   "version": "3.13.2"
  }
 },
 "nbformat": 4,
 "nbformat_minor": 5
}
