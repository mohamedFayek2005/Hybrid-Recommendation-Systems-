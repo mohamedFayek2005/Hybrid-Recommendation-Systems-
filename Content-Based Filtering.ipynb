{
 "cells": [
  {
   "cell_type": "code",
   "execution_count": 9,
   "id": "ad349747",
   "metadata": {},
   "outputs": [
    {
     "name": "stdout",
     "output_type": "stream",
     "text": [
      "   userId  movieId  rating  timestamp                        title  \\\n",
      "0       1        1     4.0  964982703             Toy Story (1995)   \n",
      "1       1        3     4.0  964981247      Grumpier Old Men (1995)   \n",
      "2       1        6     4.0  964982224                  Heat (1995)   \n",
      "3       1       47     5.0  964983815  Seven (a.k.a. Se7en) (1995)   \n",
      "4       1       50     5.0  964982931   Usual Suspects, The (1995)   \n",
      "\n",
      "                                        genres  \n",
      "0  Adventure|Animation|Children|Comedy|Fantasy  \n",
      "1                               Comedy|Romance  \n",
      "2                        Action|Crime|Thriller  \n",
      "3                             Mystery|Thriller  \n",
      "4                       Crime|Mystery|Thriller  \n"
     ]
    }
   ],
   "source": [
    "from sklearn.feature_extraction.text import TfidfVectorizer\n",
    "# تحميل البيانات المعالجة في أي نوت بوك تاني\n",
    "import pandas as pd\n",
    "data = pd.read_csv(\"processed_movielens_100k.csv\")\n",
    "# عرض أول 5 صفوف من البيانات\n",
    "print(data.head())\n",
    "\n",
    "\n"
   ]
  },
  {
   "cell_type": "code",
   "execution_count": 10,
   "id": "55caec25",
   "metadata": {},
   "outputs": [],
   "source": [
    "from sklearn.feature_extraction.text import TfidfVectorizer\n",
    "from sklearn.metrics.pairwise import cosine_similarity\n",
    "\n",
    "# 1. بناء TF-IDF من genres\n",
    "tfidf = TfidfVectorizer(stop_words='english')\n",
    "tfidf_matrix = tfidf.fit_transform(data['genres'])"
   ]
  },
  {
   "cell_type": "code",
   "execution_count": 11,
   "id": "cbe971f2",
   "metadata": {},
   "outputs": [],
   "source": [
    "# 2. دالة التوصية بناءً على input genres (زي أسلوب المحاضرة)\n",
    "def recommend_by_input_genre(input_genre, data, tfidf, tfidf_matrix, top_n=10):\n",
    "    input_genre = input_genre.replace('|', ' ').lower()\n",
    "    input_vector = tfidf.transform([input_genre])\n",
    "    \n",
    "    similarity = cosine_similarity(input_vector, tfidf_matrix).flatten()\n",
    "    top_indices = similarity.argsort()[::-1][:top_n]\n",
    "    \n",
    "    recommended = data.iloc[top_indices].copy()\n",
    "    recommended['similarity'] = similarity[top_indices]\n",
    "    \n",
    "    return recommended[['title', 'genres', 'similarity']]"
   ]
  },
  {
   "cell_type": "code",
   "execution_count": 12,
   "id": "331a70df",
   "metadata": {},
   "outputs": [
    {
     "data": {
      "text/html": [
       "<div>\n",
       "<style scoped>\n",
       "    .dataframe tbody tr th:only-of-type {\n",
       "        vertical-align: middle;\n",
       "    }\n",
       "\n",
       "    .dataframe tbody tr th {\n",
       "        vertical-align: top;\n",
       "    }\n",
       "\n",
       "    .dataframe thead th {\n",
       "        text-align: right;\n",
       "    }\n",
       "</style>\n",
       "<table border=\"1\" class=\"dataframe\">\n",
       "  <thead>\n",
       "    <tr style=\"text-align: right;\">\n",
       "      <th></th>\n",
       "      <th>title</th>\n",
       "      <th>genres</th>\n",
       "      <th>similarity</th>\n",
       "    </tr>\n",
       "  </thead>\n",
       "  <tbody>\n",
       "    <tr>\n",
       "      <th>67854</th>\n",
       "      <td>Star Trek III: The Search for Spock (1984)</td>\n",
       "      <td>Action|Adventure|Sci-Fi</td>\n",
       "      <td>1.0</td>\n",
       "    </tr>\n",
       "    <tr>\n",
       "      <th>67916</th>\n",
       "      <td>Superman (1978)</td>\n",
       "      <td>Action|Adventure|Sci-Fi</td>\n",
       "      <td>1.0</td>\n",
       "    </tr>\n",
       "    <tr>\n",
       "      <th>17484</th>\n",
       "      <td>Star Wars: Episode IV - A New Hope (1977)</td>\n",
       "      <td>Action|Adventure|Sci-Fi</td>\n",
       "      <td>1.0</td>\n",
       "    </tr>\n",
       "    <tr>\n",
       "      <th>52921</th>\n",
       "      <td>Star Wars: Episode V - The Empire Strikes Back...</td>\n",
       "      <td>Action|Adventure|Sci-Fi</td>\n",
       "      <td>1.0</td>\n",
       "    </tr>\n",
       "    <tr>\n",
       "      <th>17504</th>\n",
       "      <td>Star Wars: Episode V - The Empire Strikes Back...</td>\n",
       "      <td>Action|Adventure|Sci-Fi</td>\n",
       "      <td>1.0</td>\n",
       "    </tr>\n",
       "  </tbody>\n",
       "</table>\n",
       "</div>"
      ],
      "text/plain": [
       "                                                   title  \\\n",
       "67854         Star Trek III: The Search for Spock (1984)   \n",
       "67916                                    Superman (1978)   \n",
       "17484          Star Wars: Episode IV - A New Hope (1977)   \n",
       "52921  Star Wars: Episode V - The Empire Strikes Back...   \n",
       "17504  Star Wars: Episode V - The Empire Strikes Back...   \n",
       "\n",
       "                        genres  similarity  \n",
       "67854  Action|Adventure|Sci-Fi         1.0  \n",
       "67916  Action|Adventure|Sci-Fi         1.0  \n",
       "17484  Action|Adventure|Sci-Fi         1.0  \n",
       "52921  Action|Adventure|Sci-Fi         1.0  \n",
       "17504  Action|Adventure|Sci-Fi         1.0  "
      ]
     },
     "execution_count": 12,
     "metadata": {},
     "output_type": "execute_result"
    }
   ],
   "source": [
    "recommend_by_input_genre(\"action adventure sci-fi\", data, tfidf, tfidf_matrix, top_n=5)\n"
   ]
  }
 ],
 "metadata": {
  "kernelspec": {
   "display_name": "Python 3",
   "language": "python",
   "name": "python3"
  },
  "language_info": {
   "codemirror_mode": {
    "name": "ipython",
    "version": 3
   },
   "file_extension": ".py",
   "mimetype": "text/x-python",
   "name": "python",
   "nbconvert_exporter": "python",
   "pygments_lexer": "ipython3",
   "version": "3.13.2"
  }
 },
 "nbformat": 4,
 "nbformat_minor": 5
}
