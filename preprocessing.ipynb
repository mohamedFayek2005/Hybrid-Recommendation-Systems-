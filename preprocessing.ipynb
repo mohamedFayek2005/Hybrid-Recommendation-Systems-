{
 "cells": [
  {
   "cell_type": "code",
   "execution_count": 1,
   "id": "1cb20ae0",
   "metadata": {},
   "outputs": [],
   "source": [
    "import pandas as pd\n",
    "import numpy as np\n",
    "from sklearn.model_selection import train_test_split\n",
    "from sklearn.naive_bayes import GaussianNB\n",
    "from sklearn.tree import DecisionTreeClassifier\n",
    "from sklearn.metrics import accuracy_score, precision_score, recall_score, f1_score, mean_absolute_error\n",
    "from sklearn.metrics import mean_squared_error\n",
    "import streamlit as st  # لو هتشغله في streamlit\n",
    "import warnings\n",
    "warnings.filterwarnings(\"ignore\")\n"
   ]
  },
  {
   "cell_type": "code",
   "execution_count": 2,
   "id": "b848d99f",
   "metadata": {},
   "outputs": [
    {
     "name": "stdout",
     "output_type": "stream",
     "text": [
      "   userId  movieId  rating  timestamp\n",
      "0       1        1     4.0  964982703\n",
      "1       1        3     4.0  964981247\n",
      "2       1        6     4.0  964982224\n",
      "3       1       47     5.0  964983815\n",
      "4       1       50     5.0  964982931\n",
      "   movieId                               title  \\\n",
      "0        1                    Toy Story (1995)   \n",
      "1        2                      Jumanji (1995)   \n",
      "2        3             Grumpier Old Men (1995)   \n",
      "3        4            Waiting to Exhale (1995)   \n",
      "4        5  Father of the Bride Part II (1995)   \n",
      "\n",
      "                                        genres  \n",
      "0  Adventure|Animation|Children|Comedy|Fantasy  \n",
      "1                   Adventure|Children|Fantasy  \n",
      "2                               Comedy|Romance  \n",
      "3                         Comedy|Drama|Romance  \n",
      "4                                       Comedy  \n",
      "userId       0\n",
      "movieId      0\n",
      "rating       0\n",
      "timestamp    0\n",
      "dtype: int64\n",
      "movieId    0\n",
      "title      0\n",
      "genres     0\n",
      "dtype: int64\n",
      "   userId  movieId  rating  timestamp                        title  \\\n",
      "0       1        1     4.0  964982703             Toy Story (1995)   \n",
      "1       1        3     4.0  964981247      Grumpier Old Men (1995)   \n",
      "2       1        6     4.0  964982224                  Heat (1995)   \n",
      "3       1       47     5.0  964983815  Seven (a.k.a. Se7en) (1995)   \n",
      "4       1       50     5.0  964982931   Usual Suspects, The (1995)   \n",
      "\n",
      "                                        genres  \n",
      "0  Adventure|Animation|Children|Comedy|Fantasy  \n",
      "1                               Comedy|Romance  \n",
      "2                        Action|Crime|Thriller  \n",
      "3                             Mystery|Thriller  \n",
      "4                       Crime|Mystery|Thriller  \n"
     ]
    }
   ],
   "source": [
    "# تحميل البيانات\n",
    "movies = pd.read_csv(\"data/movies.csv\")        # يحتوي على movieId, title, genres\n",
    "ratings = pd.read_csv(\"data/ratings.csv\")      # يحتوي على userId, movieId, rating\n",
    "\n",
    "print(ratings.head())\n",
    "print(movies.head())\n",
    "\n",
    "print(ratings.isnull().sum())\n",
    "print(movies.isnull().sum())\n",
    "data = pd.merge(ratings, movies, on=\"movieId\")\n",
    "print(data.head())\n",
    "# إزالة الصفوف المكررة\n",
    "data = data.drop_duplicates()\n",
    "# إزالة التقييمات الشاذة خارج 0.5 - 5\n",
    "data = data[(data['rating'] >= 0.5) & (data['rating'] <= 5)]\n",
    "# (اختياري) إزالة Outliers بطريقة IQR\n",
    "Q1 = data['rating'].quantile(0.25)\n",
    "Q3 = data['rating'].quantile(0.75)\n",
    "IQR = Q3 - Q1\n",
    "data = data[(data['rating'] >= Q1 - 1.5 * IQR) & (data['rating'] <= Q3 + 1.5 * IQR)]\n",
    "\n",
    "\n",
    "# حفظ نسخة من البيانات بعد التنظيف والمعالجة\n",
    "data.to_csv(\"processed_movielens_100k.csv\", index=False)\n",
    "\n",
    "\n"
   ]
  },
  {
   "cell_type": "code",
   "execution_count": 3,
   "id": "e8c403da",
   "metadata": {},
   "outputs": [
    {
     "name": "stdout",
     "output_type": "stream",
     "text": [
      "Final data shape: (96655, 6)\n",
      "   userId  movieId  rating  timestamp                        title  \\\n",
      "0       1        1     4.0  964982703             Toy Story (1995)   \n",
      "1       1        3     4.0  964981247      Grumpier Old Men (1995)   \n",
      "2       1        6     4.0  964982224                  Heat (1995)   \n",
      "3       1       47     5.0  964983815  Seven (a.k.a. Se7en) (1995)   \n",
      "4       1       50     5.0  964982931   Usual Suspects, The (1995)   \n",
      "\n",
      "                                        genres  \n",
      "0  Adventure|Animation|Children|Comedy|Fantasy  \n",
      "1                               Comedy|Romance  \n",
      "2                        Action|Crime|Thriller  \n",
      "3                             Mystery|Thriller  \n",
      "4                       Crime|Mystery|Thriller  \n"
     ]
    }
   ],
   "source": [
    "# النتيجة النهائية\n",
    "print(\"Final data shape:\", data.shape)\n",
    "print(data.head())"
   ]
  },
  {
   "cell_type": "code",
   "execution_count": 4,
   "id": "54fa675d",
   "metadata": {},
   "outputs": [
    {
     "name": "stdout",
     "output_type": "stream",
     "text": [
      "Shape of TF-IDF matrix: (96655, 23)\n"
     ]
    }
   ],
   "source": [
    "from sklearn.feature_extraction.text import TfidfVectorizer\n",
    "\n",
    "# تحويل النصوص لـ TF-IDF vectors\n",
    "tfidf = TfidfVectorizer(stop_words='english')\n",
    "tfidf_matrix = tfidf.fit_transform(data['genres'])\n",
    "\n",
    "print(\"Shape of TF-IDF matrix:\", tfidf_matrix.shape)\n"
   ]
  },
  {
   "cell_type": "code",
   "execution_count": 8,
   "id": "f113a89f",
   "metadata": {},
   "outputs": [
    {
     "name": "stdout",
     "output_type": "stream",
     "text": [
      "👥 Collaborative Filtering (Decision Tree)\n",
      "Accuracy: 0.5732372483554262\n",
      "Precision: 0.5842359249329758\n",
      "Recall: 0.37621711207789515\n",
      "F1-Score: 0.4576997395614551\n"
     ]
    }
   ],
   "source": [
    "# نفترض أن التفاعل بين المستخدم ونوع الفيلم يمثل collaborative info\n",
    "X_collab = df[['userId', 'genre_code']]\n",
    "y_collab = df['user_rating']\n",
    "\n",
    "# تقسيم\n",
    "Xco_train, Xco_test, yco_train, yco_test = train_test_split(X_collab, y_collab, test_size=0.3, random_state=42)\n",
    "\n",
    "# تدريب نموذج Decision Tree\n",
    "model_dt = DecisionTreeClassifier(max_depth=5, random_state=42)\n",
    "model_dt.fit(Xco_train, yco_train)\n",
    "\n",
    "# التقييم\n",
    "yco_pred = model_dt.predict(Xco_test)\n",
    "print(\"👥 Collaborative Filtering (Decision Tree)\")\n",
    "print(\"Accuracy:\", accuracy_score(yco_test, yco_pred))\n",
    "print(\"Precision:\", precision_score(yco_test, yco_pred))\n",
    "print(\"Recall:\", recall_score(yco_test, yco_pred))\n",
    "print(\"F1-Score:\", f1_score(yco_test, yco_pred))\n"
   ]
  },
  {
   "cell_type": "code",
   "execution_count": 13,
   "id": "e7e7b3f4",
   "metadata": {},
   "outputs": [],
   "source": [
    "\n",
    "from sklearn.metrics import root_mean_squared_error\n",
    "# نحسب احتمالية الإعجاب من النموذجين\n",
    "content_probs = model_nb.predict_proba(X_content)[:, 1]\n",
    "collab_probs = model_dt.predict_proba(X_collab)[:, 1]\n",
    "\n",
    "# موازنة الوزن بين النموذجين (0.5 لكلاهما)\n",
    "df['hybrid_score'] = 0.5 * content_probs + 0.5 * collab_probs\n",
    "\n",
    "# اختيار أعلى التوصيات\n",
    "top_recommendations = df[['title', 'genres', 'hybrid_score']].drop_duplicates()\n",
    "top_recommendations = top_recommendations.sort_values('hybrid_score', ascending=False)\n"
   ]
  },
  {
   "cell_type": "code",
   "execution_count": 15,
   "id": "404a257f",
   "metadata": {},
   "outputs": [
    {
     "name": "stdout",
     "output_type": "stream",
     "text": [
      "🔀 Hybrid Model Evaluation\n",
      "RMSE: 0.49118482278204356\n",
      "MAE: 0.48768772954387035\n",
      "Precision: 0.5901837370462204\n",
      "Recall: 0.3821737340469329\n",
      "F1-Score: 0.4639296334241235\n"
     ]
    }
   ],
   "source": [
    "from sklearn.metrics import root_mean_squared_error\n",
    "rmse = root_mean_squared_error(y_true, y_pred_hybrid)\n",
    "\n",
    "# نحسب MAE و RMSE بناء على hybrid_score و y_true\n",
    "y_true = df['user_rating']\n",
    "y_pred_hybrid = df['hybrid_score']\n",
    "\n",
    "rmse = root_mean_squared_error(y_true, y_pred_hybrid)\n",
    "mae = mean_absolute_error(y_true, y_pred_hybrid)\n",
    "\n",
    "# تحويل القيم إلى تصنيفات لقياس precision و recall\n",
    "threshold = 0.5\n",
    "y_pred_binary = [1 if p >= threshold else 0 for p in y_pred_hybrid]\n",
    "\n",
    "print(\"🔀 Hybrid Model Evaluation\")\n",
    "print(\"RMSE:\", rmse)\n",
    "print(\"MAE:\", mae)\n",
    "print(\"Precision:\", precision_score(y_true, y_pred_binary))\n",
    "print(\"Recall:\", recall_score(y_true, y_pred_binary))\n",
    "print(\"F1-Score:\", f1_score(y_true, y_pred_binary))\n"
   ]
  }
 ],
 "metadata": {
  "kernelspec": {
   "display_name": "Python 3",
   "language": "python",
   "name": "python3"
  },
  "language_info": {
   "codemirror_mode": {
    "name": "ipython",
    "version": 3
   },
   "file_extension": ".py",
   "mimetype": "text/x-python",
   "name": "python",
   "nbconvert_exporter": "python",
   "pygments_lexer": "ipython3",
   "version": "3.13.2"
  }
 },
 "nbformat": 4,
 "nbformat_minor": 5
}
